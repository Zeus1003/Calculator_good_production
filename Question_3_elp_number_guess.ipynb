{
  "nbformat": 4,
  "nbformat_minor": 0,
  "metadata": {
    "colab": {
      "name": "Question 3 elp_number_guess.ipynb",
      "provenance": [],
      "collapsed_sections": [],
      "authorship_tag": "ABX9TyMwxRyk+HLOPcPU7h3W8h7p",
      "include_colab_link": true
    },
    "kernelspec": {
      "name": "python3",
      "display_name": "Python 3"
    },
    "language_info": {
      "name": "python"
    }
  },
  "cells": [
    {
      "cell_type": "markdown",
      "metadata": {
        "id": "view-in-github",
        "colab_type": "text"
      },
      "source": [
        "<a href=\"https://colab.research.google.com/github/Zeus1003/Calculator_good_production/blob/main/Question_3_elp_number_guess.ipynb\" target=\"_parent\"><img src=\"https://colab.research.google.com/assets/colab-badge.svg\" alt=\"Open In Colab\"/></a>"
      ]
    },
    {
      "cell_type": "code",
      "execution_count": 7,
      "metadata": {
        "colab": {
          "base_uri": "https://localhost:8080/"
        },
        "id": "4n5bH6g0cAw9",
        "outputId": "95af50fd-534a-4f9a-8e44-da01879c282a"
      },
      "outputs": [
        {
          "output_type": "stream",
          "name": "stdout",
          "text": [
            "I am thinking of a number between 1 and 100.\n",
            "You have10guesses left. Take a guess.\n",
            " > 40\n",
            "Your guess is too low.\n",
            "You have9guesses left. Take a guess.\n",
            " > 50\n",
            "Your guess is too high.\n",
            "You have8guesses left. Take a guess.\n",
            " > 45\n",
            "Your guess is too high.\n",
            "You have7guesses left. Take a guess.\n",
            " > 43\n",
            "Your guess is too low.\n",
            "You have6guesses left. Take a guess.\n",
            " > 44\n",
            "You guessed my number!\n"
          ]
        }
      ],
      "source": [
        "import random\n",
        "\n",
        "# the fucntion def askForGuess has the task to stroe the number to be guessed\n",
        "def askForGuess():\n",
        "  while True:\n",
        "    guess = input(' > ') \n",
        "\n",
        "    if guess.isdecimal():\n",
        "      return int(guess)\n",
        "    print('Please enter a number between 1 and 100.') \n",
        "    #prompts the user to enter a valid number\n",
        "\n",
        "SecretNumber = random.randint(1, 100) #random package \n",
        "print('I am thinking of a number between 1 and 100.') #makes the user aware of the range that the secret number might be\n",
        "\n",
        "#for loop that passes 10 times for 10 guesses\n",
        "for i in range(0,10): \n",
        "    print('You have' + str(10 - i) + 'guesses left. Take a guess.')\n",
        "\n",
        "    guess = askForGuess()\n",
        "    if guess == SecretNumber:\n",
        "        break         \n",
        "        #loop halts itself if correct number is guessed \n",
        "\n",
        "# if user input a number higher than the secret number then an error message is displayed\n",
        "    if guess > SecretNumber: \n",
        "        print('Your guess is too high.')\n",
        "    if guess < SecretNumber: # if user input a number lower than the secret number then an error message is displayed\n",
        "        print('Your guess is too low.')\n",
        "\n",
        "if guess == SecretNumber: \n",
        "    print('You guessed my number!')\n",
        "else:\n",
        "    print('No more guesses. The number I was thinking of was', SecretNumber)\n"
      ]
    }
  ]
}